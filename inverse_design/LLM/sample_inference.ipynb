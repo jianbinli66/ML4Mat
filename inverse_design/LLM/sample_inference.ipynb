{
 "cells": [
  {
   "metadata": {},
   "cell_type": "markdown",
   "source": "# Sample inference ",
   "id": "43a5ff0d31498285"
  },
  {
   "metadata": {
    "ExecuteTime": {
     "end_time": "2025-10-04T14:04:43.188279Z",
     "start_time": "2025-10-04T14:04:24.647378Z"
    }
   },
   "cell_type": "code",
   "source": [
    "from transformers import GPT2Tokenizer, GPT2LMHeadModel\n",
    "from peft import PeftModel, PeftConfig\n",
    "import torch\n",
    "import re\n",
    "import numpy as np\n",
    "ELEMENTS = [\"Ag\",\"Al\",\"B\",\"Be\",\"Bi\",\"Cd\",\"Co\",\"Cr\",\"Cu\",\"Er\",\"Eu\",\"Fe\",\"Ga\",\"Li\",\"Mg\", \"Mn\",\"Ni\",\"Pb\",\"Sc\",\"Si\",\"Sn\",\"Ti\",\"V\",\"Zn\",\"Zr\"]\n",
    "DEVICE = \"cuda\" if torch.cuda.is_available() else \"cpu\"\n"
   ],
   "id": "806c7c507bdc53ac",
   "outputs": [],
   "execution_count": 1
  },
  {
   "metadata": {
    "ExecuteTime": {
     "end_time": "2025-10-04T14:04:43.198311Z",
     "start_time": "2025-10-04T14:04:43.193290Z"
    }
   },
   "cell_type": "code",
   "source": [
    "def load_trained_model():\n",
    "    model_name = \"ljbbbbbbb/aluminum-alloy-inverse-design\"\n",
    "    try:\n",
    "        # 1. First, check what base model was used\n",
    "        peft_config = PeftConfig.from_pretrained(model_name)\n",
    "        print(f\"Base model: {peft_config.base_model_name_or_path}\")\n",
    "        \n",
    "        # 2. Load the base model (GPT2 in your case)\n",
    "        tokenizer = GPT2Tokenizer.from_pretrained(peft_config.base_model_name_or_path)\n",
    "        tokenizer.pad_token = tokenizer.eos_token\n",
    "        \n",
    "        base_model = GPT2LMHeadModel.from_pretrained(peft_config.base_model_name_or_path)\n",
    "        \n",
    "        # 3. Load your trained PEFT adapter\n",
    "        model = PeftModel.from_pretrained(base_model, model_name)\n",
    "        model = model.to(DEVICE)\n",
    "        # Move to GPU if available\n",
    "        if torch.cuda.is_available():\n",
    "            model = model.half()  # Use float16 for efficiency\n",
    "        \n",
    "        print(\"✅ Trained model loaded successfully!\")\n",
    "        return model, tokenizer\n",
    "        \n",
    "    except Exception as e:\n",
    "        print(f\"Error loading model: {e}\")\n",
    "        return None, None"
   ],
   "id": "f3ebf6b48e8ae194",
   "outputs": [],
   "execution_count": 2
  },
  {
   "metadata": {
    "ExecuteTime": {
     "end_time": "2025-10-04T14:06:15.681670Z",
     "start_time": "2025-10-04T14:06:15.675318Z"
    }
   },
   "cell_type": "code",
   "source": [
    "\n",
    "def parse_output(pred_text):\n",
    "    \"\"\"\n",
    "    Convert model output (string or list) into a numeric list ordered by ELEMENTS.\n",
    "    \"\"\"\n",
    "    values = {el: 0.0 for el in ELEMENTS}\n",
    "\n",
    "    if isinstance(pred_text, (list, np.ndarray)):\n",
    "        # assume already numeric list in same order\n",
    "        for el, val in zip(ELEMENTS, pred_text):\n",
    "            values[el] = float(val)\n",
    "    elif isinstance(pred_text, str):\n",
    "        # parse text like \"Al: 85, Mg: 5, Zn: 10\"\n",
    "        matches = re.findall(r\"([A-Za-z]+)\\s*[:=]\\s*([0-9.]+)\", pred_text)\n",
    "        for el, val in matches:\n",
    "            if el in values:\n",
    "                values[el] = float(val)\n",
    "    else:\n",
    "        raise ValueError(\"Unknown prediction format\")\n",
    "    # only return values > 0 in ELEMENTS as json fromat \n",
    "    values = {el: values[el] for el in ELEMENTS if values[el] > 0}\n",
    "    return values\n",
    "\n",
    "    # return [values[el] for el in ELEMENTS]\n",
    "\n",
    "# Inference \n",
    "def predict(model, tokenizer, processing,tensile_strength, yield_strength, elongation):\n",
    "    model.eval()\n",
    "    prop_text = (\n",
    "        f\"Target -> Tensile: {tensile_strength}MPa, \"\n",
    "        f\"Yield: {yield_strength}MPa, \"\n",
    "        f\"Elongation: {elongation}%\"\n",
    "    )\n",
    "    input_text = f\"{prop_text} under Processing: {processing} | Suggested Composition:\"\n",
    "    print(\"Prompt:\", input_text)\n",
    "    inputs = tokenizer(input_text, return_tensors=\"pt\").to(DEVICE)\n",
    "    \n",
    "    with torch.no_grad():\n",
    "        outputs = model.generate(\n",
    "            **inputs,\n",
    "            max_new_tokens=160,\n",
    "            temperature=0.7,\n",
    "            do_sample=True,\n",
    "            pad_token_id=tokenizer.eos_token_id\n",
    "        )\n",
    "    \n",
    "    response = tokenizer.decode(outputs[0], skip_special_tokens=True)\n",
    "    parse_response = parse_output(response)\n",
    "    return parse_response\n"
   ],
   "id": "4e47d35c36dba7ce",
   "outputs": [],
   "execution_count": 8
  },
  {
   "metadata": {
    "ExecuteTime": {
     "end_time": "2025-10-04T14:04:47.002468Z",
     "start_time": "2025-10-04T14:04:43.331091Z"
    }
   },
   "cell_type": "code",
   "source": [
    "\n",
    "# Usage\n",
    "model, tokenizer = load_trained_model()\n"
   ],
   "id": "3414f3e4e64eb8d",
   "outputs": [
    {
     "name": "stdout",
     "output_type": "stream",
     "text": [
      "Base model: gpt2\n",
      "✅ Trained model loaded successfully!\n"
     ]
    }
   ],
   "execution_count": 4
  },
  {
   "metadata": {
    "ExecuteTime": {
     "end_time": "2025-10-04T14:06:26.055638Z",
     "start_time": "2025-10-04T14:06:18.429815Z"
    }
   },
   "cell_type": "code",
   "source": [
    "# Test prediction\n",
    "print(\"\\n🧪 Testing prediction...\")\n",
    "prediction = predict(model, tokenizer, \"Solutionised  + Artificially peak aged\",300, 250, 12)\n",
    "print(f\"Prediction: {prediction}\")"
   ],
   "id": "d8847095b3c4e837",
   "outputs": [
    {
     "name": "stdout",
     "output_type": "stream",
     "text": [
      "\n",
      "🧪 Testing prediction...\n",
      "Prompt: Target -> Tensile: 300MPa, Yield: 250MPa, Elongation: 12% under Processing: Solutionised  + Artificially peak aged | Suggested Composition:\n",
      "Prediction: {'Al': 0.9675987, 'Cu': 0.0007508, 'Mg': 0.0031206, 'Mn': 0.025, 'Si': 0.0007509, 'Ti': 0.0007509}\n"
     ]
    }
   ],
   "execution_count": 9
  },
  {
   "metadata": {
    "ExecuteTime": {
     "end_time": "2025-10-04T14:04:54.967135Z",
     "start_time": "2025-10-04T14:04:54.964585Z"
    }
   },
   "cell_type": "code",
   "source": "",
   "id": "e9babde65a1c1d28",
   "outputs": [],
   "execution_count": null
  }
 ],
 "metadata": {
  "kernelspec": {
   "display_name": "Python 3",
   "language": "python",
   "name": "python3"
  },
  "language_info": {
   "codemirror_mode": {
    "name": "ipython",
    "version": 2
   },
   "file_extension": ".py",
   "mimetype": "text/x-python",
   "name": "python",
   "nbconvert_exporter": "python",
   "pygments_lexer": "ipython2",
   "version": "2.7.6"
  }
 },
 "nbformat": 4,
 "nbformat_minor": 5
}
